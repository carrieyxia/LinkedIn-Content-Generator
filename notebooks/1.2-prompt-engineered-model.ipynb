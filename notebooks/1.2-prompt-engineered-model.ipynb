{
 "cells": [
  {
   "cell_type": "markdown",
   "id": "a3e4cb86",
   "metadata": {},
   "source": [
    "# Prompt-engineering Model"
   ]
  },
  {
   "cell_type": "code",
   "execution_count": 2,
   "id": "d98d2d78",
   "metadata": {},
   "outputs": [],
   "source": [
    "import os\n",
    "from dotenv import load_dotenv\n",
    "\n",
    "from langchain import PromptTemplate\n",
    "from langchain.llms import OpenAI\n",
    "import tiktoken\n",
    "from langchain.chat_models import ChatOpenAI\n",
    "from langchain.chains import LLMChain\n",
    "from langchain.chains import SequentialChain\n",
    "from langchain.agents import load_tools,initialize_agent\n",
    "import openai"
   ]
  },
  {
   "cell_type": "code",
   "execution_count": 3,
   "id": "c49cf7bd",
   "metadata": {},
   "outputs": [],
   "source": [
    "# Navigate one directory up and look for .env\n",
    "current_dir = os.getcwd()\n",
    "parent_dir = os.path.dirname(current_dir)        # Get the parent directory\n",
    "dotenv_path = os.path.join(parent_dir, \".env\")"
   ]
  },
  {
   "cell_type": "code",
   "execution_count": 4,
   "id": "6d7c242b",
   "metadata": {},
   "outputs": [],
   "source": [
    "load_dotenv(dotenv_path=dotenv_path)\n",
    "\n",
    "openai.api_key = os.getenv(\"OPENAI_API_KEY\")"
   ]
  },
  {
   "cell_type": "code",
   "execution_count": 5,
   "id": "4a7c2a85",
   "metadata": {},
   "outputs": [
    {
     "name": "stdout",
     "output_type": "stream",
     "text": [
      "API Key loaded: True\n"
     ]
    }
   ],
   "source": [
    "print(\"API Key loaded:\", os.getenv(\"OPENAI_API_KEY\") is not None)"
   ]
  },
  {
   "cell_type": "code",
   "execution_count": 12,
   "id": "ef4f9a39",
   "metadata": {},
   "outputs": [],
   "source": [
    "linkedin_post_template = \"\"\"\n",
    "🚨 We’re Hiring! 🚨\n",
    "\n",
    "Hello LinkedIn network!\n",
    "\n",
    "I’m excited to share that we have an open position in the field of {industry}. We’re looking for a talented and passionate individual with {years}+ years of experience who’s ready to bring their skills and energy to our team.\n",
    "\n",
    "✨ Key skills/qualifications we’re looking for:\n",
    "* {skill}\n",
    "* {certificate}\n",
    "* {leadership}\n",
    "\n",
    "This role is ideal for someone who thrives in a dynamic environment and is ready to make an impact. If you or someone you know is exploring new opportunities, we’d love to connect and start a conversation.\n",
    "\n",
    "📩 Feel free to DM me or drop a comment below if you're interested or have referrals!\n",
    "\n",
    "Let’s build something great together.\n",
    "\n",
    "#NowHiring #JobOpening #CareerOpportunity #Hiring #Recruiting #LinkedInJobs #TalentSearch #OpenRole\n",
    "\"\"\""
   ]
  },
  {
   "cell_type": "code",
   "execution_count": 13,
   "id": "39e154d1",
   "metadata": {},
   "outputs": [],
   "source": [
    "prompt_template = PromptTemplate(\n",
    "    input_variables=['industry', 'years', 'skill', 'certificate', 'leadership'],\n",
    "    template=linkedin_post_template\n",
    ")\n",
    "prompt_template.save(\"prompt.json\")"
   ]
  },
  {
   "cell_type": "code",
   "execution_count": 14,
   "id": "bf1877bb",
   "metadata": {
    "scrolled": true
   },
   "outputs": [],
   "source": [
    "post_llm=ChatOpenAI(temperature = 0, model_name=\"gpt-3.5-turbo\")\n",
    "\n",
    "post_chain=LLMChain(llm=post_llm, prompt=prompt_template, output_key=\"post\", verbose=True)"
   ]
  },
  {
   "cell_type": "code",
   "execution_count": 15,
   "id": "bfee0782",
   "metadata": {},
   "outputs": [
    {
     "name": "stdout",
     "output_type": "stream",
     "text": [
      "\n",
      "\n",
      "\u001b[1m> Entering new LLMChain chain...\u001b[0m\n",
      "Prompt after formatting:\n",
      "\u001b[32;1m\u001b[1;3m\n",
      "🚨 We’re Hiring! 🚨\n",
      "\n",
      "Hello LinkedIn network!\n",
      "\n",
      "I’m excited to share that we have an open position in the field of tech. We’re looking for a talented and passionate individual with 2+ years of experience who’s ready to bring their skills and energy to our team.\n",
      "\n",
      "✨ Key skills/qualifications we’re looking for:\n",
      "* data analytics\n",
      "* Google Data Analytics Certificates\n",
      "* Project Leader\n",
      "\n",
      "This role is ideal for someone who thrives in a dynamic environment and is ready to make an impact. If you or someone you know is exploring new opportunities, we’d love to connect and start a conversation.\n",
      "\n",
      "📩 Feel free to DM me or drop a comment below if you're interested or have referrals!\n",
      "\n",
      "Let’s build something great together.\n",
      "\n",
      "#NowHiring #JobOpening #CareerOpportunity #Hiring #Recruiting #LinkedInJobs #TalentSearch #OpenRole\n",
      "\u001b[0m\n",
      "\n",
      "\u001b[1m> Finished chain.\u001b[0m\n"
     ]
    },
    {
     "data": {
      "text/plain": [
       "{'industry': 'tech',\n",
       " 'years': '2',\n",
       " 'skill': 'data analytics',\n",
       " 'certificate': 'Google Data Analytics Certificates',\n",
       " 'leadership': 'Project Leader',\n",
       " 'post': \"\\n🌟 Don't miss out on this exciting opportunity! Join our team and be a part of something amazing. Apply now or refer someone who would be a great fit! 🌟 #TechJobs #DataAnalytics #ProjectLeader #JoinOurTeam #CareerGrowth #OpportunityKnocks\"}"
      ]
     },
     "execution_count": 15,
     "metadata": {},
     "output_type": "execute_result"
    }
   ],
   "source": [
    "post_chain({'industry': 'tech', 'years': '2', 'skill': 'data analytics', 'certificate':'Google Data Analytics Certificates','leadership':'Project Leader'})"
   ]
  },
  {
   "cell_type": "code",
   "execution_count": 10,
   "id": "f2073017",
   "metadata": {},
   "outputs": [],
   "source": [
    "from langchain.agents import AgentType, initialize_agent, load_tools\n",
    "from langchain.llms import OpenAI\n",
    "from langchain.callbacks import get_openai_callback\n",
    "\n",
    "tools = load_tools([\"llm-math\"], llm=post_llm)\n",
    "agent = initialize_agent(\n",
    "    tools, post_llm, agent=AgentType.ZERO_SHOT_REACT_DESCRIPTION, verbose=True\n",
    ")"
   ]
  },
  {
   "cell_type": "code",
   "execution_count": 16,
   "id": "2da98bb6",
   "metadata": {},
   "outputs": [
    {
     "name": "stdout",
     "output_type": "stream",
     "text": [
      "\n",
      "\n",
      "\u001b[1m> Entering new LLMChain chain...\u001b[0m\n",
      "Prompt after formatting:\n",
      "\u001b[32;1m\u001b[1;3m\n",
      "🚨 We’re Hiring! 🚨\n",
      "\n",
      "Hello LinkedIn network!\n",
      "\n",
      "I’m excited to share that we have an open position in the field of tech. We’re looking for a talented and passionate individual with 2+ years of experience who’s ready to bring their skills and energy to our team.\n",
      "\n",
      "✨ Key skills/qualifications we’re looking for:\n",
      "* data analytics\n",
      "* Google Data Analytics Certificates\n",
      "* Project Leader\n",
      "\n",
      "This role is ideal for someone who thrives in a dynamic environment and is ready to make an impact. If you or someone you know is exploring new opportunities, we’d love to connect and start a conversation.\n",
      "\n",
      "📩 Feel free to DM me or drop a comment below if you're interested or have referrals!\n",
      "\n",
      "Let’s build something great together.\n",
      "\n",
      "#NowHiring #JobOpening #CareerOpportunity #Hiring #Recruiting #LinkedInJobs #TalentSearch #OpenRole\n",
      "\u001b[0m\n",
      "\n",
      "\u001b[1m> Finished chain.\u001b[0m\n",
      "Total Tokens: 229\n",
      "Prompt Tokens: 195\n",
      "Completion Tokens: 34\n",
      "Total Cost (USD): $0.00036050000000000003\n"
     ]
    }
   ],
   "source": [
    "with get_openai_callback() as cb:\n",
    "    post_chain({'industry': 'tech', 'years': '2', 'skill': 'data analytics', 'certificate':'Google Data Analytics Certificates','leadership':'Project Leader'})\n",
    "    print(f\"Total Tokens: {cb.total_tokens}\")\n",
    "    print(f\"Prompt Tokens: {cb.prompt_tokens}\")\n",
    "    print(f\"Completion Tokens: {cb.completion_tokens}\")\n",
    "    print(f\"Total Cost (USD): ${cb.total_cost}\")"
   ]
  }
 ],
 "metadata": {
  "kernelspec": {
   "display_name": "Python 3",
   "language": "python",
   "name": "python3"
  },
  "language_info": {
   "codemirror_mode": {
    "name": "ipython",
    "version": 3
   },
   "file_extension": ".py",
   "mimetype": "text/x-python",
   "name": "python",
   "nbconvert_exporter": "python",
   "pygments_lexer": "ipython3",
   "version": "3.11.6"
  }
 },
 "nbformat": 4,
 "nbformat_minor": 5
}
