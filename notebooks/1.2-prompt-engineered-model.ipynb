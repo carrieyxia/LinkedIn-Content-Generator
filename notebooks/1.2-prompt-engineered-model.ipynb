{
 "cells": [
  {
   "cell_type": "markdown",
   "id": "a3e4cb86",
   "metadata": {},
   "source": [
    "# Prompt-engineering Model"
   ]
  },
  {
   "cell_type": "code",
   "execution_count": 7,
   "id": "d98d2d78",
   "metadata": {},
   "outputs": [],
   "source": [
    "import os\n",
    "from dotenv import load_dotenv\n",
    "\n",
    "from langchain import PromptTemplate\n",
    "from langchain.llms import OpenAI\n",
    "import tiktoken\n",
    "from langchain.chat_models import ChatOpenAI\n",
    "from langchain.chains import LLMChain\n",
    "from langchain.chains import SequentialChain\n",
    "from langchain.agents import load_tools,initialize_agent\n",
    "import openai"
   ]
  },
  {
   "cell_type": "code",
   "execution_count": null,
   "id": "c49cf7bd",
   "metadata": {},
   "outputs": [],
   "source": [
    "# Navigate one directory up and look for .env\n",
    "current_dir = os.getcwd()\n",
    "parent_dir = os.path.dirname(current_dir)        # Get the parent directory\n",
    "dotenv_path = os.path.join(parent_dir, \".env\")"
   ]
  },
  {
   "cell_type": "code",
   "execution_count": null,
   "id": "6d7c242b",
   "metadata": {},
   "outputs": [],
   "source": [
    "load_dotenv(dotenv_path=dotenv_path)\n",
    "\n",
    "openai.api_key = os.getenv(\"OPENAI_API_KEY\")"
   ]
  },
  {
   "cell_type": "code",
   "execution_count": 14,
   "id": "4a7c2a85",
   "metadata": {},
   "outputs": [
    {
     "name": "stdout",
     "output_type": "stream",
     "text": [
      "API Key loaded: True\n"
     ]
    }
   ],
   "source": [
    "print(\"API Key loaded:\", os.getenv(\"OPENAI_API_KEY\") is not None)"
   ]
  },
  {
   "cell_type": "code",
   "execution_count": null,
   "id": "ef4f9a39",
   "metadata": {},
   "outputs": [],
   "source": [
    "linkedin_post_template = \"\"\"\n",
    "* Seeking New Opportunities! *\n",
    "\n",
    "Hello LinkedIn community! \n",
    "\n",
    "I hope this post finds you all well. I am excited to announce that I am currently seeking new job opportunities in {industry}. With {years} years of experience\n",
    "\n",
    "Here's a brief overview of my background:\n",
    "\n",
    "* {skill}\n",
    "* {certificate}\n",
    "* {leadership}\n",
    "\n",
    "I am passionate about {industry} and thrive in dynamic environments where I can contribute my skills and knowledge. I am a dedicated team player who values co)\n",
    "\n",
    "If you know of any exciting opportunities or if you would like to connect and discuss potential collaborations, I would love to hear from you! Feel free to reach out\n",
    "\n",
    "Thank you in advance for your support, and I look forward to connecting with you all!\n",
    "\n",
    "#JobSeeker #OpenToOpportunities #CareerSearch #LinkedInNetworkinq\n",
    "\"\"\""
   ]
  },
  {
   "cell_type": "code",
   "execution_count": null,
   "id": "39e154d1",
   "metadata": {},
   "outputs": [],
   "source": [
    "prompt_template = PromptTemplate(\n",
    "    input_variables=['industry', 'years', 'skill', 'certificate', 'leadership'],\n",
    "    template=linkedin_post_template\n",
    ")\n",
    "prompt_template.save(\"prompt.json\")"
   ]
  },
  {
   "cell_type": "code",
   "execution_count": null,
   "id": "bf1877bb",
   "metadata": {
    "scrolled": true
   },
   "outputs": [],
   "source": [
    "post_llm=ChatOpenAI(temperature = 0, model_name=\"gpt-3.5-turbo\")\n",
    "\n",
    "post_chain=LLMChain(llm=post_llm, prompt=prompt_template, output_key=\"post\", verbose=True)"
   ]
  },
  {
   "cell_type": "code",
   "execution_count": null,
   "id": "bfee0782",
   "metadata": {},
   "outputs": [
    {
     "name": "stdout",
     "output_type": "stream",
     "text": [
      "\n",
      "\n",
      "\u001b[1m> Entering new LLMChain chain...\u001b[0m\n",
      "Prompt after formatting:\n",
      "\u001b[32;1m\u001b[1;3m\n",
      "* Seeking New Opportunities! *\n",
      "\n",
      "Hello LinkedIn community! \n",
      "\n",
      "I hope this post finds you all well. I am excited to announce that I am currently seeking new job opportunities in tech. With 2 years of experience\n",
      "\n",
      "Here's a brief overview of my background:\n",
      "\n",
      "* data analytics\n",
      "* Google Data Analytics Certificates\n",
      "* Project Leader\n",
      "\n",
      "I am passionate abou tech and thrive in dynamic environments where I can contribute my skills and knowledge. I am a dedicated team player who values co)\n",
      "\n",
      "If you know of any exciting opportunities or if you would like to connect and discuss potential collaborations, I would love to hear from you! Feel free to reach out\n",
      "\n",
      "Thank you in advance for your support, and I look forward to connecting with you all!\n",
      "\n",
      "#JobSeeker #OpenToOpportunities #CareerSearch #LinkedInNetworkinq\n",
      "\u001b[0m\n",
      "\n",
      "\u001b[1m> Finished chain.\u001b[0m\n"
     ]
    },
    {
     "data": {
      "text/plain": [
       "{'industry': 'tech',\n",
       " 'years': '2',\n",
       " 'skill': 'data analytics',\n",
       " 'certificate': 'Google Data Analytics Certificates',\n",
       " 'leadership': 'Project Leader',\n",
       " 'post': '* Seeking New Opportunities! *\\n\\nHello LinkedIn community!\\n\\nI hope this post finds you all well. I am excited to announce that I am currently seeking new job opportunities in tech. With 2 years of experience in data analytics and holding Google Data Analytics Certificates, I am confident in my abilities to contribute to any tech team. Additionally, I have experience as a Project Leader, which has honed my leadership and organizational skills.\\n\\nI am passionate about tech and thrive in dynamic environments where I can contribute my skills and knowledge. I am a dedicated team player who values collaboration and believes in the power of teamwork to achieve great results.\\n\\nIf you know of any exciting opportunities or if you would like to connect and discuss potential collaborations, I would love to hear from you! Feel free to reach out to me through LinkedIn messaging or email.\\n\\nThank you in advance for your support, and I look forward to connecting with you all!\\n\\n#JobSeeker #OpenToOpportunities #CareerSearch #LinkedInNetworking'}"
      ]
     },
     "execution_count": 9,
     "metadata": {},
     "output_type": "execute_result"
    }
   ],
   "source": [
    "post_chain({'industry': 'tech', 'years': '2', 'skill': 'data analytics', 'certificate':'Google Data Analytics Certificates','leadership':'Project Leader'})"
   ]
  },
  {
   "cell_type": "code",
   "execution_count": null,
   "id": "f2073017",
   "metadata": {},
   "outputs": [],
   "source": [
    "from langchain.agents import AgentType, initialize_agent, load_tools\n",
    "from langchain.llms import OpenAI\n",
    "from langchain.callbacks import get_openai_callback\n",
    "\n",
    "tools = load_tools([\"llm-math\"], llm=post_llm)\n",
    "agent = initialize_agent(\n",
    "    tools, post_llm, agent=AgentType.ZERO_SHOT_REACT_DESCRIPTION, verbose=True\n",
    ")"
   ]
  },
  {
   "cell_type": "code",
   "execution_count": null,
   "id": "2da98bb6",
   "metadata": {},
   "outputs": [
    {
     "name": "stdout",
     "output_type": "stream",
     "text": [
      "\n",
      "\n",
      "\u001b[1m> Entering new LLMChain chain...\u001b[0m\n",
      "Prompt after formatting:\n",
      "\u001b[32;1m\u001b[1;3m\n",
      "* Seeking New Opportunities! *\n",
      "\n",
      "Hello LinkedIn community! \n",
      "\n",
      "I hope this post finds you all well. I am excited to announce that I am currently seeking new job opportunities in tech. With 2 years of experience\n",
      "\n",
      "Here's a brief overview of my background:\n",
      "\n",
      "* data analytics\n",
      "* Google Data Analytics Certificates\n",
      "* Project Leader\n",
      "\n",
      "I am passionate abou tech and thrive in dynamic environments where I can contribute my skills and knowledge. I am a dedicated team player who values co)\n",
      "\n",
      "If you know of any exciting opportunities or if you would like to connect and discuss potential collaborations, I would love to hear from you! Feel free to reach out\n",
      "\n",
      "Thank you in advance for your support, and I look forward to connecting with you all!\n",
      "\n",
      "#JobSeeker #OpenToOpportunities #CareerSearch #LinkedInNetworkinq\n",
      "\u001b[0m\n",
      "\n",
      "\u001b[1m> Finished chain.\u001b[0m\n",
      "Total Tokens: 373\n",
      "Prompt Tokens: 174\n",
      "Completion Tokens: 199\n",
      "Total Cost (USD): $0.0006590000000000001\n"
     ]
    }
   ],
   "source": [
    "with get_openai_callback() as cb:\n",
    "    post_chain({'industry': 'tech', 'years': '2', 'skill': 'data analytics', 'certificate':'Google Data Analytics Certificates','leadership':'Project Leader'})\n",
    "    print(f\"Total Tokens: {cb.total_tokens}\")\n",
    "    print(f\"Prompt Tokens: {cb.prompt_tokens}\")\n",
    "    print(f\"Completion Tokens: {cb.completion_tokens}\")\n",
    "    print(f\"Total Cost (USD): ${cb.total_cost}\")"
   ]
  }
 ],
 "metadata": {
  "kernelspec": {
   "display_name": "Python 3",
   "language": "python",
   "name": "python3"
  },
  "language_info": {
   "codemirror_mode": {
    "name": "ipython",
    "version": 3
   },
   "file_extension": ".py",
   "mimetype": "text/x-python",
   "name": "python",
   "nbconvert_exporter": "python",
   "pygments_lexer": "ipython3",
   "version": "3.11.6"
  }
 },
 "nbformat": 4,
 "nbformat_minor": 5
}
