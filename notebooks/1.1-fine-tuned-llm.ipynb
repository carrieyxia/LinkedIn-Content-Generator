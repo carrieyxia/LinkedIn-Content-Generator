{
 "cells": [
  {
   "cell_type": "markdown",
   "metadata": {},
   "source": [
    "# Fine-tuned LLM\n",
    "First approach is to use a fine-tuned LLM. This notebook demonstrate the process of fine-tuning a GPT to only perform the task of generating LinkedIn messages.\n",
    "### Import packages needed"
   ]
  },
  {
   "cell_type": "code",
   "execution_count": 4,
   "metadata": {},
   "outputs": [],
   "source": [
    "import json\n",
    "from collections import defaultdict\n",
    "import os\n",
    "import openai\n",
    "import numpy as np\n",
    "# !pip -q install datasets tiktoken openai\n",
    "import tiktoken"
   ]
  },
  {
   "cell_type": "markdown",
   "metadata": {},
   "source": [
    "### Define the paths"
   ]
  },
  {
   "cell_type": "code",
   "execution_count": 5,
   "metadata": {},
   "outputs": [],
   "source": [
    "current_dir = os.getcwd()\n",
    "parent_dir = os.path.dirname(current_dir)\n",
    "\n",
    "data_folder = os.path.join(parent_dir, 'data')\n",
    "file_path = os.path.join(data_folder, 'content_generator_train.jsonl')"
   ]
  },
  {
   "cell_type": "markdown",
   "metadata": {},
   "source": [
    "### Load the training data"
   ]
  },
  {
   "cell_type": "code",
   "execution_count": 6,
   "metadata": {},
   "outputs": [
    {
     "data": {
      "text/plain": [
       "[{'messages': [{'role': 'system',\n",
       "    'content': 'You are a content generator that generates LinkedIn post for job seekers.'},\n",
       "   {'role': 'user',\n",
       "    'content': 'Generate a LinkedIn post introducing myself as a job seeker looking for opportunities as an executive assistant or paralegal. Emphasize my qualifications and preferences, including a Master of Science degree in Criminal Justice, proficiency in Microsoft 365 and Google Suite apps, organizational skills, and a desire for remote, full-time work with a minimum salary of $100k and comprehensive benefits. Mention the exclusion of Primerica, MLM, sales, or commission-only roles. Ask for community assistance in tagging hiring managers or TA professionals and express eagerness to connect and explore opportunities. Include relevant hashtags like #jobseeker, #executiveassistant, and #paralegal.'},\n",
       "   {'role': 'assistant',\n",
       "    'content': \"Hello, LinkedIn! I hope everyone is enjoying their weekend☀️ /nI am a #jobseeker eager to become an #executiveassistant or #paralegal! /n❌ NO PRIMERICA, MLM, SALES, OR COMMISSION-ONLY WORK, PLEASE! /nWhat I bring to the table: /n✅ A Master of Science degree in Criminal Justice /n✅ Dual familiarity with Microsoft 365 and Google Suite apps /n✅ Excellent organizational skills and adherence to confidentiality standards /n✅ In-depth knowledge of scheduling, email, customer service expectations, and more! /nWhat I'm looking for in a company: /n✅ 100% remote, full-time work /✅ Salary: $100k minimum /✅ Benefits such as health, dental, vision, family planning, etc. /nPlease tag hiring managers or TA people on this post who can guide me in the right direction! I no longer have access to LinkedIn Premium, so I can only utilize InMail a little. /nI'm extremely eager to meet all of you, and I hope to work for one of your companies soon! /n#masterofscience /n#mastersdegree /n#opentowork /n#opentoconnect\"}]},\n",
       " {'messages': [{'role': 'system',\n",
       "    'content': 'You are a content generator that generates LinkedIn post for job seekers.'},\n",
       "   {'role': 'user',\n",
       "    'content': \"Compose a LinkedIn post announcing my job search in the field of Full Stack Development. Express gratitude for the community's support and mention openness to connections, advice, and job opportunities. Emphasize my expertise in React.js, React Native, Angular.js, and Node.js. Include relevant hashtags like #Developer, #FullStack, #ReactJS, #ReactNative, #AngularJS, #NodeJS, #JobSeeker, and #TechTalent.\"},\n",
       "   {'role': 'assistant',\n",
       "    'content': \"👋 Hi everyone! I'm on the lookout for an exciting new role and would be grateful for your support. Thank you in advance for any connections, advice, or opportunities you can offer. #OpenToWork /n🚀 Experienced in Full Stack Development with a strong skill set in: /nReact.js, React Native, Angular.js, Node.js /n#Developer #FullStack #ReactJS #ReactNative #AngularJS #NodeJS #JobSeeker #TechTalent\"}]},\n",
       " {'messages': [{'role': 'system',\n",
       "    'content': 'You are a content generator that generates LinkedIn post for job seekers.'},\n",
       "   {'role': 'user',\n",
       "    'content': 'Compose a LinkedIn post expressing my active search for Talent Acquisition and Recruitment roles. Use the hashtag #opentowork and include contact information for interested parties to reach out. Specify the immediate availability to join and express gratitude for support. Incorporate hashtags such as #jobseeker, #talentacquisition, #recruitment, and #hireme.'},\n",
       "   {'role': 'assistant',\n",
       "    'content': 'Hi, I’m #opentowork and actively seeking an opportunity for Talent Acquisition and Recruitment roles. Kindly DM or reach out to me at tavleenvohra4@gmail.com if anyone is hiring for similar roles./nI’m available to join immediately. Thanks for your support./n#jobseeker #talentacquisition #recruitment #hireme'}]},\n",
       " {'messages': [{'role': 'system',\n",
       "    'content': 'You are a content generator that generates LinkedIn post for job seekers.'},\n",
       "   {'role': 'user',\n",
       "    'content': 'Create a LinkedIn post expressing openness to new opportunities and connections in the fields of Managerial, Consulting, and Analytics roles. Mentioning a background at GEP Worldwide and the desire to explore new horizons, highlight skills in strategic sourcing, negotiation, project management, and analytics. Express enthusiasm for navigating new managerial or consulting avenues, with a preference for roles in New Jersey, New York, and nearby regions or remote positions. Encourage connections, shares, referrals, comments, and reposts. Include relevant hashtags such as #OpenToWork, #JobSearch, #HireMe, #JobHunt, #JobSeeker, #Hiring, #Recruitment, #RemoteWork, #Career, #HumanResources, #JobInterviews, #HiringAndPromotion, #Management, #Consulting, #StrategicSourcing, #CostOptimization, #Negotiation, #ProjectManagement, #StakeholderManagement, #Analytics, #NewYork, and #NewJersey.'},\n",
       "   {'role': 'assistant',\n",
       "    'content': \"🌟 Open to New Opportunities & Connections: Manager | Consulting | MBA | IIT Bombay 🌟/n/n/nDear LinkedIn Network,/nAfter an enriching journey at GEP Worldwide, I'm excited to explore new horizons in the world of Consulting, Procurement and Analytics. I'm on the lookout for a new opportunity where I can leverage my strategic sourcing, negotiation, project management, and analytical skills to make a meaningful impact./n/nI welcome new connections and opportunities in all the related domains. I am enthusiastic about navigating new managerial or consulting avenues where my skills in Strategic Sourcing, Cost Optimization, Negotiation, Project and Stakeholder Management, Analytics, Power BI, and Consulting can significantly contribute. I am particularly interested in roles based out of New Jersey, New York and nearby regions, or remote positions./n/n📌Feel free to reach out on LinkedIn. Your shares, referrals, comments and reposts will be invaluable! Your connections and insights are greatly appreciated./n/n#OpenToWork #JobSearch #HireMe #JobHunt #JobSeeker #Hiring #Recruitment #RemoteWork #Career #HumanResources #JobInterviews #HiringAndPromotion #Management #Consulting #StrategicSourcing #CostOptimization #Negotiation #ProjectManagement #StakeholderManagement #Analytics #NewYork #NewJersey\"}]},\n",
       " {'messages': [{'role': 'system',\n",
       "    'content': 'You are a content generator that generates LinkedIn post for job seekers.'},\n",
       "   {'role': 'user',\n",
       "    'content': \"Compose a LinkedIn post announcing my openness to new opportunities in the field of Data Science. Highlight the upcoming graduation in December with a Master's in Data Science from SUNY, Buffalo. Express eagerness to explore full-time opportunities, emphasizing skills in Python, Machine Learning, data analytics, and more. Specify interest in entry-level positions as a Data Scientist, Machine Learning Engineer, or Data Analyst. Conclude with relevant hashtags such as #DataScience, #DataAnalytics, #JobSeeker, #OpenToWork, #MachineLearningEngineer, #DataScientist, #NLP, #AIandML, #DataAnalyst, #HRHiring, #HR, and #HRAnalytics.\"},\n",
       "   {'role': 'assistant',\n",
       "    'content': \"🚀 Open to New Data Science Opportunities! 📊/n/nHello LinkedIn community,/nI'm delighted to share that I'll be graduating this December with a Master's in Data Science from SUNY, Buffalo. I'm actively exploring full-time opportunities in the field of Data Science. With a strong skill set in Python, Machine Learning, data analytics, and more, I'm eager to take on fresh challenges and make a positive impact./nI'm looking for entry-level positions of Data scientist, Machine Learning Engineer, and Data Analyst./n/n#DataScience #DataAnalytics #JobSeeker #OpenToWork #machinelearningengineer #datascientist #nlp #aiandml #dataanalyst #hrhiring #hr #hranalytics\"}]},\n",
       " {'messages': [{'role': 'system',\n",
       "    'content': 'You are a content generator that generates LinkedIn post for job seekers.'},\n",
       "   {'role': 'user',\n",
       "    'content': 'Generate a LinkedIn post for a job seeker in the tech industry with 2 years of experience. The post should express enthusiasm for seeking new opportunities and highlight skills in data analytics, Google Data Analytics Certificates, and experience as a Project Leader. Emphasize a passion for technology, thriving in dynamic environments, and a dedication to teamwork. Encourage connections and discussions about potential collaborations. Include relevant hashtags such as #JobSeeker, #OpenToOpportunities, #CareerSearch, and #LinkedInNetworking.'},\n",
       "   {'role': 'assistant',\n",
       "    'content': \"* Seeking New Opportunities! * /n Hello LinkedIn community! /n I hope this post finds you all well. I am excited to announce that I am currently seeking new job opportunities in tech. With 2 years of experience /n Here's a brief overview of my background: /n * data analytics /n * Google Data Analytics Certificates /n * Project Leader /n I am passionate abou tech and thrive in dynamic environments where I can contribute my skills and knowledge. I am a dedicated team player who values co) /n If you know of any exciting opportunities or if you would like to connect and discuss potential collaborations, I would love to hear from you! Feel free to reach out /n Thank you in advance for your support, and I look forward to connecting with you all! /n #JobSeeker #OpenToOpportunities #CareerSearch #LinkedInNetworkinq\"}]},\n",
       " {'messages': [{'role': 'system',\n",
       "    'content': 'You are a content generator that generates LinkedIn post for job seekers.'},\n",
       "   {'role': 'user',\n",
       "    'content': 'Generate a LinkedIn post for a job seeker in the Marketing industry with 4 years of experience. The post should express excitement about seeking new opportunities and highlight skills in Digital Marketing, Google Digital Marketing Certificate, and experience as a Project Manager. Emphasize a passion for Marketing, thriving in dynamic environments, and dedication to teamwork. Encourage connections and discussions about potential collaborations. Include relevant hashtags such as #JobSeeker, #OpenToOpportunities, #CareerSearch, and #LinkedInNetworking.'},\n",
       "   {'role': 'assistant',\n",
       "    'content': \"* Seeking New Opportunities! * /n Hello LinkedIn community! /n I hope this post finds you all well. I am excited to announce that I am currently seeking new job opportunities in Marketing. With 4 years of experience /n Here's a brief overview of my background: /n * Digital Marketing /n * Google Digital Marketing Certificate /n * Project Manager /n I am passionate about Marketing and thrive in dynamic environments where I can contribute my skills and knowledge. I am a dedicated team player who values collaboration. /n If you know of any exciting opportunities or if you would like to connect and discuss potential collaborations, I would love to hear from you! Feel free to reach out. /n Thank you in advance for your support, and I look forward to connecting with you all! /n #JobSeeker #OpenToOpportunities #CareerSearch #LinkedInNetworking\"}]},\n",
       " {'messages': [{'role': 'system',\n",
       "    'content': 'You are a content generator that generates LinkedIn post for job seekers.'},\n",
       "   {'role': 'user',\n",
       "    'content': 'Generate a LinkedIn post for a job seeker in the Software Development industry with 3 years of experience. The post should express excitement about seeking new opportunities and highlight skills in Full Stack Development, AWS Certified Developer, and experience as a Team Lead. Emphasize a passion for Software Development, thriving in dynamic environments, and dedication to teamwork. Encourage connections and discussions about potential collaborations. Include relevant hashtags such as #JobSeeker, #OpenToOpportunities, #CareerSearch, and #LinkedInNetworking.'},\n",
       "   {'role': 'assistant',\n",
       "    'content': \"* Seeking New Opportunities! * /n Hello LinkedIn community! /n I hope this post finds you all well. I am excited to announce that I am currently seeking new job opportunities in Software Development. With 3 years of experience /n Here's a brief overview of my background: /n * Full Stack Development /n * AWS Certified Developer /n * Team Lead /n I am passionate about Software Development and thrive in dynamic environments where I can contribute my skills and knowledge. I am a dedicated team player who values collaboration. /n If you know of any exciting opportunities or if you would like to connect and discuss potential collaborations, I would love to hear from you! Feel free to reach out. /n Thank you in advance for your support, and I look forward to connecting with you all! /n #JobSeeker #OpenToOpportunities #CareerSearch #LinkedInNetworking\"}]},\n",
       " {'messages': [{'role': 'system',\n",
       "    'content': 'You are a content generator that generates LinkedIn post for job seekers.'},\n",
       "   {'role': 'user',\n",
       "    'content': 'Generate a LinkedIn post for a job seeker in Software Development with 5 years of experience. The post should announce their active search for new opportunities, emphasizing expertise in Full Stack Development, AWS Certification, and experience as a Project Lead. Express enthusiasm, a passion for Software Development, and a desire for dynamic environments. Encourage connections and discussions about potential collaborations. Include relevant hashtags such as #JobSeeker, #OpenToOpportunities, #CareerSearch, and #LinkedInNetworking.'},\n",
       "   {'role': 'assistant',\n",
       "    'content': \"* Seeking New Opportunities! * /n Hello LinkedIn community! /n I hope this post finds you all well. I am excited to announce that I am currently seeking new job opportunities in Software Development. With 5 years of experience /n Here's a brief overview of my background: /n * Full Stack Development /n * AWS Certified Developer /n * Project Lead /n I am passionate about Software Development and thrive in dynamic environments where I can contribute my skills and knowledge. I am a dedicated team player who values collaboration. /n If you know of any exciting opportunities or if you would like to connect and discuss potential collaborations, I would love to hear from you! Feel free to reach out. /n Thank you in advance for your support, and I look forward to connecting with you all! /n #JobSeeker #OpenToOpportunities #CareerSearch #LinkedInNetworking\"}]},\n",
       " {'messages': [{'role': 'system',\n",
       "    'content': 'You are a content generator that generates LinkedIn post for job seekers.'},\n",
       "   {'role': 'user',\n",
       "    'content': 'Generate a LinkedIn post for a job seeker in the field of Finance with 6 years of experience. The post should announce their active search for new opportunities, highlighting skills in Financial Analysis, CPA Certification, and experience as a Finance Manager. Express enthusiasm, a passion for Finance, and a desire for dynamic environments. Encourage connections and discussions about potential collaborations. Include relevant hashtags such as #JobSeeker, #OpenToOpportunities, #CareerSearch, and #LinkedInNetworking.'},\n",
       "   {'role': 'assistant',\n",
       "    'content': \"* Seeking New Opportunities! * /n Hello LinkedIn community! /n I hope this post finds you all well. I am excited to announce that I am currently seeking new job opportunities in Finance. With 6 years of experience /n Here's a brief overview of my background: /n * Financial Analysis /n * CPA Certification /n * Finance Manager /n I am passionate about Finance and thrive in dynamic environments where I can contribute my skills and knowledge. I am a dedicated team player who values collaboration. /n If you know of any exciting opportunities or if you would like to connect and discuss potential collaborations, I would love to hear from you! Feel free to reach out. /n Thank you in advance for your support, and I look forward to connecting with you all! /n #JobSeeker #OpenToOpportunities #CareerSearch #LinkedInNetworking\"}]}]"
      ]
     },
     "execution_count": 6,
     "metadata": {},
     "output_type": "execute_result"
    }
   ],
   "source": [
    "# Create an empty list to store the loaded JSON objects\n",
    "dataset = []\n",
    "\n",
    "# Open the JSONL file and read line by line\n",
    "with open(file_path, 'r') as file:\n",
    "    for line in file:\n",
    "        # Each line is a valid JSON object, so we parse it\n",
    "        json_object = json.loads(line)\n",
    "        dataset.append(json_object)\n",
    "\n",
    "# Now 'dataset' contains a list of dictionaries representing each line in the JSONL file\n",
    "dataset"
   ]
  },
  {
   "cell_type": "code",
   "execution_count": 3,
   "metadata": {},
   "outputs": [
    {
     "name": "stdout",
     "output_type": "stream",
     "text": [
      "No errors found\n"
     ]
    }
   ],
   "source": [
    "# Format error checks\n",
    "format_errors = defaultdict(int)\n",
    "\n",
    "for ex in dataset:\n",
    "    if not isinstance(ex, dict):\n",
    "        format_errors[\"data_type\"] += 1\n",
    "        continue\n",
    "\n",
    "    messages = ex.get(\"messages\", None)\n",
    "    if not messages:\n",
    "        format_errors[\"missing_messages_list\"] += 1\n",
    "        continue\n",
    "\n",
    "    for message in messages:\n",
    "        if \"role\" not in message or \"content\" not in message:\n",
    "            format_errors[\"message_missing_key\"] += 1\n",
    "\n",
    "        if any(k not in (\"role\", \"content\", \"name\") for k in message):\n",
    "            format_errors[\"message_unrecognized_key\"] += 1\n",
    "\n",
    "        if message.get(\"role\", None) not in (\"system\", \"user\", \"assistant\"):\n",
    "            format_errors[\"unrecognized_role\"] += 1\n",
    "\n",
    "        content = message.get(\"content\", None)\n",
    "        if not content or not isinstance(content, str):\n",
    "            format_errors[\"missing_content\"] += 1\n",
    "\n",
    "    if not any(message.get(\"role\", None) == \"assistant\" for message in messages):\n",
    "        format_errors[\"example_missing_assistant_message\"] += 1\n",
    "\n",
    "if format_errors:\n",
    "    print(\"Found errors:\")\n",
    "    for k, v in format_errors.items():\n",
    "        print(f\"{k}: {v}\")\n",
    "else:\n",
    "    print(\"No errors found\")"
   ]
  },
  {
   "cell_type": "code",
   "execution_count": 6,
   "metadata": {},
   "outputs": [
    {
     "name": "stdout",
     "output_type": "stream",
     "text": [
      "302 prompt tokens counted.\n"
     ]
    }
   ],
   "source": [
    "def num_tokens_from_messages(messages, model=\"gpt-3.5-turbo\"):\n",
    "  \"\"\"Returns the number of tokens used by a list of messages.\"\"\"\n",
    "  try:\n",
    "      encoding = tiktoken.encoding_for_model(model)\n",
    "  except KeyError:\n",
    "      encoding = tiktoken.get_encoding(\"cl100k_base\")\n",
    "  if model == \"gpt-3.5-turbo\":  # note: future models may deviate from this\n",
    "      num_tokens = 0\n",
    "      for message in messages:\n",
    "          num_tokens += 4  # every message follows <im_start>{role/name}\\n{content}<im_end>\\n\n",
    "          for key, value in message.items():\n",
    "              num_tokens += len(encoding.encode(value))\n",
    "              if key == \"name\":  # if there's a name, the role is omitted\n",
    "                  num_tokens += -1  # role is always required and always 1 token\n",
    "      num_tokens += 2  # every reply is primed with <im_start>assistant\n",
    "      return num_tokens\n",
    "  else:\n",
    "      raise NotImplementedError(f\"\"\"num_tokens_from_messages() is not presently implemented for model {model}.\n",
    "  See https://github.com/openai/openai-python/blob/main/chatml.md for information on how messages are converted to tokens.\"\"\")\n",
    "\n",
    "model=\"gpt-3.5-turbo\"\n",
    "print(f\"{num_tokens_from_messages(messages, model)} prompt tokens counted.\")"
   ]
  },
  {
   "cell_type": "code",
   "execution_count": 7,
   "metadata": {},
   "outputs": [],
   "source": [
    "system_message = \"\"\"You are a content generator that generates LinkedIn post for job seekers.\"\"\""
   ]
  },
  {
   "cell_type": "code",
   "execution_count": null,
   "metadata": {},
   "outputs": [
    {
     "data": {
      "text/plain": [
       "<File file id=file-1Ia34249kLTGei3Wmr3XGo83 at 0x10ae578f0> JSON: {\n",
       "  \"object\": \"file\",\n",
       "  \"id\": \"file-1Ia34249kLTGei3Wmr3XGo83\",\n",
       "  \"purpose\": \"fine-tune\",\n",
       "  \"filename\": \"file\",\n",
       "  \"bytes\": 2343,\n",
       "  \"created_at\": 1702426483,\n",
       "  \"status\": \"processed\",\n",
       "  \"status_details\": null\n",
       "}"
      ]
     },
     "execution_count": 8,
     "metadata": {},
     "output_type": "execute_result"
    }
   ],
   "source": [
    "os.environ[\"OPENAI_API_KEY\"] = os.getenv(\"OPENAI_API_KEY\")\n",
    "openai.api_key = os.environ[\"OPENAI_API_KEY\"]\n",
    "\n",
    "    \n",
    "res = openai.File.create(\n",
    "    file=open(\"train.jsonl\", \"r\"),\n",
    "    purpose='fine-tune'\n",
    ")\n",
    "res"
   ]
  },
  {
   "cell_type": "code",
   "execution_count": 5,
   "metadata": {},
   "outputs": [
    {
     "data": {
      "text/plain": [
       "'file-nhnLxoMisn0uQEzLufbW2ozJ'"
      ]
     },
     "execution_count": 5,
     "metadata": {},
     "output_type": "execute_result"
    }
   ],
   "source": [
    "file_id = res[\"id\"]\n",
    "file_id"
   ]
  },
  {
   "cell_type": "code",
   "execution_count": 6,
   "metadata": {},
   "outputs": [
    {
     "data": {
      "text/plain": [
       "<FineTuningJob fine_tuning.job id=ftjob-i1TPtyQnADlJpBrJ5r9YjLiN at 0x10498a390> JSON: {\n",
       "  \"object\": \"fine_tuning.job\",\n",
       "  \"id\": \"ftjob-i1TPtyQnADlJpBrJ5r9YjLiN\",\n",
       "  \"model\": \"gpt-3.5-turbo-0613\",\n",
       "  \"created_at\": 1700194191,\n",
       "  \"finished_at\": null,\n",
       "  \"fine_tuned_model\": null,\n",
       "  \"organization_id\": \"org-ViQITQ1IoZfuzh7CgKfIWIe7\",\n",
       "  \"result_files\": [],\n",
       "  \"status\": \"validating_files\",\n",
       "  \"validation_file\": null,\n",
       "  \"training_file\": \"file-nhnLxoMisn0uQEzLufbW2ozJ\",\n",
       "  \"hyperparameters\": {\n",
       "    \"n_epochs\": \"auto\",\n",
       "    \"batch_size\": \"auto\",\n",
       "    \"learning_rate_multiplier\": \"auto\"\n",
       "  },\n",
       "  \"trained_tokens\": null,\n",
       "  \"error\": null\n",
       "}"
      ]
     },
     "execution_count": 6,
     "metadata": {},
     "output_type": "execute_result"
    }
   ],
   "source": [
    "res = openai.FineTuningJob.create(training_file=file_id, model=\"gpt-3.5-turbo\")\n",
    "res"
   ]
  },
  {
   "cell_type": "code",
   "execution_count": 12,
   "metadata": {},
   "outputs": [],
   "source": [
    "job_id = res[\"id\"]\n",
    "response = openai.FineTuningJob.retrieve(job_id)\n",
    "response\n",
    "\n",
    "ft_model = response[\"fine_tuned_model\"]\n"
   ]
  },
  {
   "cell_type": "code",
   "execution_count": 13,
   "metadata": {},
   "outputs": [],
   "source": [
    "from langchain.chat_models import ChatOpenAI\n",
    "llm = ChatOpenAI(\n",
    "    temperature=0.3,\n",
    "    model_name=ft_model\n",
    ")"
   ]
  },
  {
   "cell_type": "code",
   "execution_count": 12,
   "metadata": {},
   "outputs": [
    {
     "name": "stdout",
     "output_type": "stream",
     "text": [
      "[{'role': 'system', 'content': 'You are a content generator that generates LinkedIn post for job seekers.'}, {'role': 'user', 'content': 'Create a LinkedIn post express openess to work. The person is looking for data scientist summer internship. The post should highlight python, SQL, R skills. Also, it should mention ability to manipulate big data as well as machine learning experiences. Include relevant hashtags.'}]\n"
     ]
    }
   ],
   "source": [
    "test_messages = []\n",
    "test_messages.append({\"role\": \"system\", \"content\": system_message})\n",
    "user_message = \"Create a LinkedIn post express openess to work. The person is looking for data scientist summer internship. The post should highlight python, SQL, R skills. Also, it should mention ability to manipulate big data as well as machine learning experiences. Include relevant hashtags.\"\n",
    "test_messages.append({\"role\": \"user\", \"content\": user_message})\n",
    "\n",
    "print(test_messages)"
   ]
  },
  {
   "cell_type": "code",
   "execution_count": 22,
   "metadata": {},
   "outputs": [
    {
     "name": "stdout",
     "output_type": "stream",
     "text": [
      "🌟 #JobSeeker #OpenToOpportunities #CareerSearch #LinkedInNetworking 🌟\n",
      "\n",
      "🔎 Seeking a Data Scientist Summer Internship 🔍\n",
      "\n",
      "📚 Are you looking for a talented and motivated data scientist intern? Look no further! I am currently open to exciting opportunities in the field of data science for this summer. 🌞\n",
      "\n",
      "🔬 With a strong background in Python, SQL, and R, I am equipped with the necessary technical skills to tackle complex data challenges. 💻 My ability to manipulate big data sets and extract valuable insights sets me apart from the crowd. 📊\n",
      "\n",
      "💡 Additionally, I have hands-on experience in machine learning, enabling me to develop predictive models and drive data-driven decision-making. 🤖\n",
      "\n",
      "🌐 If you know of any organizations or individuals seeking a passionate and dedicated data scientist intern, please feel free to reach out. Let's connect and explore potential opportunities together! 🤝\n",
      "\n",
      "#DataScience #InternshipOpportunity #Python #SQL #R #BigData #MachineLearning #DataDrivenDecisionMaking #LinkedInNetworking\n"
     ]
    }
   ],
   "source": [
    "\n",
    "response = openai.ChatCompletion.create(\n",
    "    model=ft_model, messages=test_messages, temperature=0, max_tokens=500\n",
    ")\n",
    "print(response[\"choices\"][0][\"message\"][\"content\"])"
   ]
  },
  {
   "cell_type": "code",
   "execution_count": 13,
   "metadata": {},
   "outputs": [
    {
     "name": "stdout",
     "output_type": "stream",
     "text": [
      "77 prompt tokens counted.\n"
     ]
    }
   ],
   "source": [
    "print(f\"{num_tokens_from_messages(test_messages, model)} prompt tokens counted.\")"
   ]
  }
 ],
 "metadata": {
  "kernelspec": {
   "display_name": "Python 3",
   "language": "python",
   "name": "python3"
  },
  "language_info": {
   "codemirror_mode": {
    "name": "ipython",
    "version": 3
   },
   "file_extension": ".py",
   "mimetype": "text/x-python",
   "name": "python",
   "nbconvert_exporter": "python",
   "pygments_lexer": "ipython3",
   "version": "3.11.6"
  }
 },
 "nbformat": 4,
 "nbformat_minor": 2
}
